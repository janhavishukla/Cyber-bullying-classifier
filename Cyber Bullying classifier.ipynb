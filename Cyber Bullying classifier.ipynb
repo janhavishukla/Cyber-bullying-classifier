{
  "nbformat": 4,
  "nbformat_minor": 0,
  "metadata": {
    "colab": {
      "name": "Untitled1.ipynb",
      "provenance": [],
      "collapsed_sections": []
    },
    "kernelspec": {
      "name": "python3",
      "display_name": "Python 3"
    }
  },
  "cells": [
    {
      "cell_type": "code",
      "metadata": {
        "id": "l1_uw0YAPnXS",
        "outputId": "a7dab483-abb2-4504-e044-29ee98257dcb",
        "colab": {
          "base_uri": "https://localhost:8080/"
        }
      },
      "source": [
        "import pandas as pd\n",
        "import nltk\n",
        "nltk.download('punkt')"
      ],
      "execution_count": 6,
      "outputs": [
        {
          "output_type": "stream",
          "text": [
            "[nltk_data] Downloading package punkt to /root/nltk_data...\n",
            "[nltk_data]   Unzipping tokenizers/punkt.zip.\n"
          ],
          "name": "stdout"
        },
        {
          "output_type": "execute_result",
          "data": {
            "text/plain": [
              "True"
            ]
          },
          "metadata": {
            "tags": []
          },
          "execution_count": 6
        }
      ]
    },
    {
      "cell_type": "code",
      "metadata": {
        "id": "yW0qNQ2uPp0k"
      },
      "source": [
        "from textblob.classifiers import NaiveBayesClassifier"
      ],
      "execution_count": 7,
      "outputs": []
    },
    {
      "cell_type": "code",
      "metadata": {
        "id": "-Gebq4SiPs9L"
      },
      "source": [
        "text_data  = [(\"@urgedharry @nyazpolitics @greenlinerzjm Then why doesn't she know that her prophet called women stupid and corrupt.\",0),\n",
        "(\"RT @RudawEnglish: Dozens of vehicles belonging to #ISIS were destroyed by coalition airstrikes from the #Syrian border, en route #Rumadi.\",0),\n",
        "(\"@biebervalue @greenlinerzjm Here is the Quran telling men they can beat their wives and that men are superior.\",1),\n",
        "(\"@Ceff00 @JosephIsVegan @SumbelinaZ @IronmanL1 @Hatewatch There are over 100 Islamic terrorist groups. No other religion is close.\",1)]"
      ],
      "execution_count": 13,
      "outputs": []
    },
    {
      "cell_type": "code",
      "metadata": {
        "id": "hgsBSVyuPy3p"
      },
      "source": [
        "cl = NaiveBayesClassifier(text_data)"
      ],
      "execution_count": 14,
      "outputs": []
    },
    {
      "cell_type": "code",
      "metadata": {
        "id": "XeeHL3nTP4_g",
        "outputId": "56fa30a8-89f4-40eb-ac5a-f80bec88d26e",
        "colab": {
          "base_uri": "https://localhost:8080/"
        }
      },
      "source": [
        "cl.classify(\"I would literally destroy someone for Jac and Shaz's pancakes right now #MKR\")"
      ],
      "execution_count": 18,
      "outputs": [
        {
          "output_type": "execute_result",
          "data": {
            "text/plain": [
              "1"
            ]
          },
          "metadata": {
            "tags": []
          },
          "execution_count": 18
        }
      ]
    },
    {
      "cell_type": "code",
      "metadata": {
        "id": "LP_QL8u5QcYU"
      },
      "source": [
        ""
      ],
      "execution_count": null,
      "outputs": []
    }
  ]
}